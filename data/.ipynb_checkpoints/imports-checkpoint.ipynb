{
 "cells": [
  {
   "cell_type": "code",
   "execution_count": 5,
   "id": "24639fd9-a9bd-4fdc-9857-ab5112d98217",
   "metadata": {},
   "outputs": [
    {
     "name": "stdout",
     "output_type": "stream",
     "text": [
      "Requirement already satisfied: kaggle in /opt/conda/lib/python3.10/site-packages (1.5.13)\n",
      "Requirement already satisfied: certifi in /opt/conda/lib/python3.10/site-packages (from kaggle) (2023.5.7)\n",
      "Requirement already satisfied: six>=1.10 in /opt/conda/lib/python3.10/site-packages (from kaggle) (1.16.0)\n",
      "Requirement already satisfied: python-slugify in /opt/conda/lib/python3.10/site-packages (from kaggle) (8.0.1)\n",
      "Requirement already satisfied: python-dateutil in /opt/conda/lib/python3.10/site-packages (from kaggle) (2.8.2)\n",
      "Requirement already satisfied: requests in /opt/conda/lib/python3.10/site-packages (from kaggle) (2.29.0)\n",
      "Requirement already satisfied: tqdm in /opt/conda/lib/python3.10/site-packages (from kaggle) (4.65.0)\n",
      "Requirement already satisfied: urllib3 in /opt/conda/lib/python3.10/site-packages (from kaggle) (1.26.15)\n",
      "Requirement already satisfied: text-unidecode>=1.3 in /opt/conda/lib/python3.10/site-packages (from python-slugify->kaggle) (1.3)\n",
      "Requirement already satisfied: idna<4,>=2.5 in /opt/conda/lib/python3.10/site-packages (from requests->kaggle) (3.4)\n",
      "Requirement already satisfied: charset-normalizer<4,>=2 in /opt/conda/lib/python3.10/site-packages (from requests->kaggle) (2.0.4)\n",
      "\u001b[33mWARNING: Running pip as the 'root' user can result in broken permissions and conflicting behaviour with the system package manager. It is recommended to use a virtual environment instead: https://pip.pypa.io/warnings/venv\u001b[0m\u001b[33m\n",
      "\u001b[0m"
     ]
    }
   ],
   "source": [
    "!pip install kaggle\n",
    "!mkdir -p ~/.kaggle/\n",
    "!cp kaggle.json ~/.kaggle/\n",
    "!chmod 600 ~/.kaggle/kaggle.json"
   ]
  },
  {
   "cell_type": "code",
   "execution_count": 6,
   "id": "61b6cbf8-78cc-42a1-a935-679b6eecdd08",
   "metadata": {},
   "outputs": [
    {
     "name": "stdout",
     "output_type": "stream",
     "text": [
      "Downloading mnist-dataset.zip to /home/data\n",
      " 95%|████████████████████████████████████▏ | 21.0M/22.0M [00:02<00:00, 17.8MB/s]\n",
      "100%|██████████████████████████████████████| 22.0M/22.0M [00:02<00:00, 8.74MB/s]\n"
     ]
    }
   ],
   "source": [
    "!kaggle datasets download -d hojjatk/mnist-dataset"
   ]
  },
  {
   "cell_type": "code",
   "execution_count": 8,
   "id": "5906bca8-31d5-41d3-8219-f5701e0620e9",
   "metadata": {},
   "outputs": [
    {
     "data": {
      "text/plain": [
       "['t10k-images-idx3-ubyte/t10k-images-idx3-ubyte',\n",
       " 't10k-images.idx3-ubyte',\n",
       " 't10k-labels-idx1-ubyte/t10k-labels-idx1-ubyte',\n",
       " 't10k-labels.idx1-ubyte',\n",
       " 'train-images-idx3-ubyte/train-images-idx3-ubyte',\n",
       " 'train-images.idx3-ubyte',\n",
       " 'train-labels-idx1-ubyte/train-labels-idx1-ubyte',\n",
       " 'train-labels.idx1-ubyte']"
      ]
     },
     "execution_count": 8,
     "metadata": {},
     "output_type": "execute_result"
    }
   ],
   "source": [
    "import zipfile\n",
    "\n",
    "# File path\n",
    "zip_path = \"raw_mnist/mnist-dataset.zip\"\n",
    "\n",
    "# List the contents of the ZIP file\n",
    "with zipfile.ZipFile(zip_path, 'r') as zip_ref:\n",
    "    zip_contents = zip_ref.namelist()\n",
    "\n",
    "zip_contents"
   ]
  },
  {
   "cell_type": "code",
   "execution_count": 9,
   "id": "7b292d1c-3c03-41f4-814f-ae7c800970be",
   "metadata": {},
   "outputs": [
    {
     "data": {
      "text/plain": [
       "['mnist-dataset.zip',\n",
       " '.ipynb_checkpoints',\n",
       " 't10k-images.idx3-ubyte',\n",
       " 't10k-labels.idx1-ubyte',\n",
       " 'train-images.idx3-ubyte',\n",
       " 'train-labels.idx1-ubyte']"
      ]
     },
     "execution_count": 9,
     "metadata": {},
     "output_type": "execute_result"
    }
   ],
   "source": [
    "import os\n",
    "\n",
    "# Directory to extract the files to\n",
    "extraction_dir = \"raw_mnist/\"\n",
    "\n",
    "# Extract the files from the ZIP\n",
    "with zipfile.ZipFile(zip_path, 'r') as zip_ref:\n",
    "    for file in zip_contents:\n",
    "        if not os.path.dirname(file):  # Check if the file is outside any directory\n",
    "            zip_ref.extract(file, extraction_dir)\n",
    "\n",
    "# List the extracted files\n",
    "extracted_files = os.listdir(extraction_dir)\n",
    "extracted_files"
   ]
  },
  {
   "cell_type": "code",
   "execution_count": 10,
   "id": "73c08f9c-9220-4d3f-9f2b-6c628aceeb75",
   "metadata": {},
   "outputs": [
    {
     "data": {
      "text/plain": [
       "((60000, 28, 28), (60000,), (10000, 28, 28), (10000,))"
      ]
     },
     "execution_count": 10,
     "metadata": {},
     "output_type": "execute_result"
    }
   ],
   "source": [
    "import numpy as np\n",
    "import struct\n",
    "\n",
    "def read_idx_labels(filename):\n",
    "    \"\"\"Read MNIST labels from the given IDX formatted file.\"\"\"\n",
    "    with open(filename, 'rb') as f:\n",
    "        # Read the magic number and number of labels\n",
    "        magic, num = struct.unpack(\">II\", f.read(8))\n",
    "        labels = np.fromfile(f, dtype=np.int8)\n",
    "    return labels\n",
    "\n",
    "def read_idx_images(filename):\n",
    "    \"\"\"Read MNIST images from the given IDX formatted file.\"\"\"\n",
    "    with open(filename, 'rb') as f:\n",
    "        # Read the magic number, number of images, rows, and columns\n",
    "        magic, num, rows, cols = struct.unpack(\">IIII\", f.read(16))\n",
    "        images = np.fromfile(f, dtype=np.uint8).reshape(num, rows, cols)\n",
    "    return images\n",
    "\n",
    "# Load training and test data\n",
    "train_images = read_idx_images(os.path.join(extraction_dir, 'train-images.idx3-ubyte'))\n",
    "train_labels = read_idx_labels(os.path.join(extraction_dir, 'train-labels.idx1-ubyte'))\n",
    "test_images = read_idx_images(os.path.join(extraction_dir, 't10k-images.idx3-ubyte'))\n",
    "test_labels = read_idx_labels(os.path.join(extraction_dir, 't10k-labels.idx1-ubyte'))\n",
    "\n",
    "# Checking the shape of the loaded data\n",
    "train_images.shape, train_labels.shape, test_images.shape, test_labels.shape"
   ]
  },
  {
   "cell_type": "code",
   "execution_count": 16,
   "id": "7552034a-7afa-460f-a929-79702f89570a",
   "metadata": {},
   "outputs": [],
   "source": [
    "images  = np.concatenate([train_images,test_images], 0)\n",
    "labels = np.concatenate([train_labels,test_labels], 0)"
   ]
  },
  {
   "cell_type": "code",
   "execution_count": 21,
   "id": "336f8455-0e2f-4f5c-9a1d-8d55a7f91310",
   "metadata": {},
   "outputs": [
    {
     "data": {
      "text/plain": [
       "5"
      ]
     },
     "execution_count": 21,
     "metadata": {},
     "output_type": "execute_result"
    }
   ],
   "source": [
    "labels[0]"
   ]
  },
  {
   "cell_type": "code",
   "execution_count": 20,
   "id": "61c05527-186d-4762-9937-04ac434057af",
   "metadata": {},
   "outputs": [
    {
     "data": {
      "text/plain": [
       "<matplotlib.image.AxesImage at 0x7f61e87bb940>"
      ]
     },
     "execution_count": 20,
     "metadata": {},
     "output_type": "execute_result"
    },
    {
     "data": {
      "image/png": "[encoded data removed]",
      "text/plain": [
       "<Figure size 640x480 with 1 Axes>"
      ]
     },
     "metadata": {},
     "output_type": "display_data"
    }
   ],
   "source": [
    "import matplotlib.pyplot as plt\n",
    "\n",
    "plt.imshow(images[0])"
   ]
  },
  {
   "cell_type": "code",
   "execution_count": 23,
   "id": "76a5f8c2-9c10-467d-a13f-f8f3de215655",
   "metadata": {},
   "outputs": [],
   "source": [
    "np.save('images_labels/images.npy',images)"
   ]
  },
  {
   "cell_type": "code",
   "execution_count": 24,
   "id": "4a8cf039-d44f-4095-aedb-c58e23e17ae2",
   "metadata": {},
   "outputs": [],
   "source": [
    "np.save('images_labels/labels.npy',labels)"
   ]
  },
  {
   "cell_type": "code",
   "execution_count": 35,
   "id": "06b2cca8-4ab3-493a-bd59-04d6da1521e0",
   "metadata": {},
   "outputs": [],
   "source": [
    "import pandas as pd\n",
    "\n",
    "metadata = pd.DataFrame(labels, columns = ['labels'])\n",
    "metadata['index'] = metadata.index"
   ]
  },
  {
   "cell_type": "code",
   "execution_count": 37,
   "id": "ded828b1-1648-41fd-a30f-bcc1921f1c30",
   "metadata": {},
   "outputs": [],
   "source": [
    "metadata[['index', 'labels']].to_csv('metadatas/metadata.csv', index=False)"
   ]
  },
  {
   "cell_type": "code",
   "execution_count": null,
   "id": "a337d1d9-5dcf-4674-b7e9-9e6e43501cb8",
   "metadata": {},
   "outputs": [],
   "source": []
  }
 ],
 "metadata": {
  "kernelspec": {
   "display_name": "Python 3 (ipykernel)",
   "language": "python",
   "name": "python3"
  },
  "language_info": {
   "codemirror_mode": {
    "name": "ipython",
    "version": 3
   },
   "file_extension": ".py",
   "mimetype": "text/x-python",
   "name": "python",
   "nbconvert_exporter": "python",
   "pygments_lexer": "ipython3",
   "version": "3.10.11"
  }
 },
 "nbformat": 4,
 "nbformat_minor": 5
}
