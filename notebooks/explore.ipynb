{
 "cells": [
  {
   "cell_type": "code",
   "execution_count": 1,
   "id": "9928dcc3-05d1-47fd-8a6c-eebcc6ecea1c",
   "metadata": {},
   "outputs": [],
   "source": [
    "import numpy as np\n",
    "import pandas as pd \n",
    "import os\n",
    "from jarviscloud import jarviscloud\n",
    "from torch import nn\n",
    "import torch\n",
    "from tqdm import tqdm\n",
    "import albumentations as A\n",
    "import cv2\n",
    "import timm\n",
    "import sys\n",
    "import matplotlib.pyplot as plt\n",
    "from torchvision import transforms\n",
    "import numpy as np\n",
    "sys.path.append(\"../python/\")\n",
    "\n",
    "from hyperparams import Hyperparams\n",
    "import model_classes as mc\n",
    "from stratified_kfold_loaders import *"
   ]
  },
  {
   "cell_type": "code",
   "execution_count": 5,
   "id": "43bc2fa9-2763-46c3-9dac-0df8b0c61f4f",
   "metadata": {},
   "outputs": [],
   "source": [
    "device = torch.device('cuda' if torch.cuda.is_available() else 'cpu')\n",
    "\n",
    "model = mc.VariationalAutoEncoder('efficientnet_b0',10)\n",
    "model.eval()\n",
    "state_dict = torch.load('../running_models/fold_1/me_0.098_ep_20_en_efficientnet_b0_lr_0.001_si_28.pt', map_location = device)\n",
    "model.to(device)\n",
    "model.load_state_dict(state_dict, strict = True)\n",
    "\n",
    "\n",
    "normalise_transform = transforms.Compose([\n",
    "        transforms.Normalize(mean=(33.385964741253645), std=(78.6543736268941))\n",
    "        ])"
   ]
  },
  {
   "cell_type": "code",
   "execution_count": 6,
   "id": "21a7b6c3-2754-42b7-9af8-f09077ada907",
   "metadata": {},
   "outputs": [],
   "source": [
    "all_images = np.load('../data/images_labels/images.npy')\n",
    "all_labels = np.load('../data/images_labels/labels.npy')"
   ]
  },
  {
   "cell_type": "code",
   "execution_count": 7,
   "id": "d8f35e71-3618-4c36-badf-3351f6f9689d",
   "metadata": {},
   "outputs": [],
   "source": [
    "images = torch.tensor(all_images[:1000]).unsqueeze(1).to(device).float()\n",
    "images = normalise_transform(images)"
   ]
  },
  {
   "cell_type": "code",
   "execution_count": 8,
   "id": "d9384e1e-b2b7-422b-8adb-3b85673ed9cc",
   "metadata": {},
   "outputs": [],
   "source": [
    "with torch.no_grad():\n",
    "    outputs = model(images)"
   ]
  },
  {
   "cell_type": "code",
   "execution_count": 17,
   "id": "3c5af3f1-5de1-4e29-ba59-053b2e2a851a",
   "metadata": {},
   "outputs": [
    {
     "data": {
      "text/plain": [
       "<matplotlib.image.AxesImage at 0x7f5811cad8a0>"
      ]
     },
     "execution_count": 17,
     "metadata": {},
     "output_type": "execute_result"
    },
    {
     "data": {
      "image/png": "[encoded data removed]",
      "text/plain": [
       "<Figure size 1000x500 with 2 Axes>"
      ]
     },
     "metadata": {},
     "output_type": "display_data"
    }
   ],
   "source": [
    "plt.figure(figsize = (10,5))\n",
    "i = 3\n",
    "plt.subplot(1,2,1)\n",
    "plt.imshow(images[i].squeeze(0).cpu().numpy(), cmap='gray')\n",
    "plt.subplot(1,2,2)\n",
    "plt.imshow((outputs[i]).squeeze(0).cpu().numpy(), cmap='gray')"
   ]
  },
  {
   "cell_type": "code",
   "execution_count": null,
   "id": "22cd233f-f34f-42f2-bb86-08db845800ad",
   "metadata": {},
   "outputs": [],
   "source": [
    "outputs.device"
   ]
  },
  {
   "cell_type": "code",
   "execution_count": null,
   "id": "38dd6b2e-4c39-40af-a439-f66d44600a98",
   "metadata": {},
   "outputs": [],
   "source": []
  }
 ],
 "metadata": {
  "kernelspec": {
   "display_name": "Python 3 (ipykernel)",
   "language": "python",
   "name": "python3"
  },
  "language_info": {
   "codemirror_mode": {
    "name": "ipython",
    "version": 3
   },
   "file_extension": ".py",
   "mimetype": "text/x-python",
   "name": "python",
   "nbconvert_exporter": "python",
   "pygments_lexer": "ipython3",
   "version": "3.10.11"
  }
 },
 "nbformat": 4,
 "nbformat_minor": 5
}
